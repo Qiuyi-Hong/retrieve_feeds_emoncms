{
 "cells": [
  {
   "cell_type": "markdown",
   "metadata": {},
   "source": [
    "[![Open In Colab](https://colab.research.google.com/assets/colab-badge.svg)](https://colab.research.google.com/github/Qiuyi-Hong/retrieve_feeds_emoncms/blob/main/retrieveFeeds.ipynb)"
   ]
  },
  {
   "cell_type": "markdown",
   "metadata": {},
   "source": [
    "# Retrieve all feeds data from emoncms"
   ]
  },
  {
   "cell_type": "code",
   "execution_count": 1,
   "metadata": {},
   "outputs": [],
   "source": [
    "# # Download necessary files:\n",
    "# import urllib.request, sys\n",
    "\n",
    "# urls = [\n",
    "#     'https://raw.githubusercontent.com/Qiuyi-Hong/retrieve_feeds_emoncms/refs/heads/main/funcs.py',\n",
    "#     ]\n",
    "# file_names = [url.split('/')[-1] for url in urls]\n",
    "\n",
    "# for i in range(len(urls)):\n",
    "#     urllib.request.urlretrieve(urls[i], file_names[i])"
   ]
  },
  {
   "cell_type": "code",
   "execution_count": 2,
   "metadata": {},
   "outputs": [],
   "source": [
    "from datetime import datetime\n",
    "from funcs import *"
   ]
  },
  {
   "cell_type": "code",
   "execution_count": null,
   "metadata": {},
   "outputs": [],
   "source": [
    "id = {'id_number':'', 'id_name':'', 'id_unit':''}\n",
    "\n",
    "# start and end of the period you want to get the data from\n",
    "start = datetime.strptime('19-09-2024 00:00:00', '%d-%m-%Y %H:%M:%S')\n",
    "end = datetime.strptime('19-11-2024 23:59:50', '%d-%m-%Y %H:%M:%S')\n",
    "\n",
    "# input your Read-only apikey\n",
    "your_apikey = ''"
   ]
  },
  {
   "cell_type": "code",
   "execution_count": 4,
   "metadata": {},
   "outputs": [],
   "source": [
    "all_feeds = allFeeds(id, start, end, apikey=your_apikey)\n",
    "final_result = all_feeds.retrieve_all_feeds()"
   ]
  }
 ],
 "metadata": {
  "kernelspec": {
   "display_name": "SHEMS",
   "language": "python",
   "name": "python3"
  },
  "language_info": {
   "codemirror_mode": {
    "name": "ipython",
    "version": 3
   },
   "file_extension": ".py",
   "mimetype": "text/x-python",
   "name": "python",
   "nbconvert_exporter": "python",
   "pygments_lexer": "ipython3",
   "version": "3.10.15"
  }
 },
 "nbformat": 4,
 "nbformat_minor": 2
}
